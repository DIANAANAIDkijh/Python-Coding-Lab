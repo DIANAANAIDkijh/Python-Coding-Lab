{
 "cells": [
  {
   "cell_type": "code",
   "execution_count": 119,
   "id": "7c044974",
   "metadata": {},
   "outputs": [],
   "source": [
    "import pandas as pd\n",
    "import numpy as np\n",
    "import sympy as sp\n",
    "import matplotlib.pyplot as plt\n",
    "from openpyxl import load_workbook"
   ]
  },
  {
   "cell_type": "code",
   "execution_count": null,
   "id": "f64d805c",
   "metadata": {},
   "outputs": [],
   "source": [
    "perfiles = pd.read_excel('T2.xlsx', usecols=\"B:E\", nrows=11, skiprows=3, index_col='Perfil')\n",
    "perfiles\n"
   ]
  },
  {
   "cell_type": "code",
   "execution_count": 9,
   "id": "e563b958",
   "metadata": {},
   "outputs": [],
   "source": [
    "\n",
    "    "
   ]
  },
  {
   "cell_type": "code",
   "execution_count": 121,
   "id": "c5cada40",
   "metadata": {},
   "outputs": [
    {
     "data": {
      "text/plain": [
       "(25.0, 50.0, 5.0)"
      ]
     },
     "execution_count": 121,
     "metadata": {},
     "output_type": "execute_result"
    }
   ],
   "source": [
    "h = perfiles.loc[1, 'h [mm]']\n",
    "b = perfiles.loc[1, 'b [mm]']\n",
    "t = perfiles.loc[1, 't [mm]']\n",
    "h, b, t"
   ]
  },
  {
   "cell_type": "code",
   "execution_count": 122,
   "id": "fe72c0c1",
   "metadata": {},
   "outputs": [
    {
     "data": {
      "text/plain": [
       "350.0"
      ]
     },
     "execution_count": 122,
     "metadata": {},
     "output_type": "execute_result"
    }
   ],
   "source": [
    "area_total= (t*(h-t)) + (b*t) \n",
    "area_total"
   ]
  },
  {
   "cell_type": "code",
   "execution_count": 123,
   "id": "24805b1a",
   "metadata": {},
   "outputs": [
    {
     "data": {
      "text/plain": [
       "250.0"
      ]
     },
     "execution_count": 123,
     "metadata": {},
     "output_type": "execute_result"
    }
   ],
   "source": [
    "area1= (t*b)\n",
    "area1"
   ]
  },
  {
   "cell_type": "code",
   "execution_count": 124,
   "id": "87e91be6",
   "metadata": {},
   "outputs": [
    {
     "data": {
      "text/plain": [
       "100.0"
      ]
     },
     "execution_count": 124,
     "metadata": {},
     "output_type": "execute_result"
    }
   ],
   "source": [
    "area2= (t*(h-t))\n",
    "area2"
   ]
  },
  {
   "cell_type": "code",
   "execution_count": 125,
   "id": "05321a07",
   "metadata": {},
   "outputs": [
    {
     "data": {
      "text/plain": [
       "6625.0"
      ]
     },
     "execution_count": 125,
     "metadata": {},
     "output_type": "execute_result"
    }
   ],
   "source": [
    "y= (t*(h-t)*((h-t)/2)) + ((b*t)*((h-t)+(t/2)))\n",
    "y"
   ]
  },
  {
   "cell_type": "code",
   "execution_count": 126,
   "id": "2027a784",
   "metadata": {},
   "outputs": [
    {
     "data": {
      "text/plain": [
       "18.928571428571427"
      ]
     },
     "execution_count": 126,
     "metadata": {},
     "output_type": "execute_result"
    }
   ],
   "source": [
    "ybarra= y/area_total\n",
    "ybarra"
   ]
  },
  {
   "cell_type": "code",
   "execution_count": 127,
   "id": "94d23635",
   "metadata": {},
   "outputs": [
    {
     "data": {
      "text/plain": [
       "3709.608843537418"
      ]
     },
     "execution_count": 127,
     "metadata": {},
     "output_type": "execute_result"
    }
   ],
   "source": [
    "##Inercia en el eje x figura 1 \n",
    "i1x= ((b*(t**3))/12) + ((t*b)*(((h-t)+(t/2))-ybarra)**2)\n",
    "i1x\n"
   ]
  },
  {
   "cell_type": "code",
   "execution_count": 128,
   "id": "8ac8dd4d",
   "metadata": {},
   "outputs": [
    {
     "data": {
      "text/plain": [
       "11305.272108843536"
      ]
     },
     "execution_count": 128,
     "metadata": {},
     "output_type": "execute_result"
    }
   ],
   "source": [
    "## Inercia en el eje x figura 2 \n",
    "i2x= ((t*(h-t)**3)/12) + ((t*(h-t))*(ybarra-((h-t)/2))**2)\n",
    "i2x"
   ]
  },
  {
   "cell_type": "code",
   "execution_count": 129,
   "id": "02f49aa6",
   "metadata": {},
   "outputs": [
    {
     "data": {
      "text/plain": [
       "15014.880952380954"
      ]
     },
     "execution_count": 129,
     "metadata": {},
     "output_type": "execute_result"
    }
   ],
   "source": [
    "## Momento de inercia en x \n",
    "Mix= i1x + i2x\n",
    "Mix"
   ]
  },
  {
   "cell_type": "code",
   "execution_count": 130,
   "id": "baa6c356",
   "metadata": {},
   "outputs": [
    {
     "data": {
      "text/plain": [
       "3.209345"
      ]
     },
     "execution_count": 130,
     "metadata": {},
     "output_type": "execute_result"
    }
   ],
   "source": [
    "momento_maximo= 3.209345\n",
    "momento_maximo"
   ]
  },
  {
   "cell_type": "code",
   "execution_count": 140,
   "id": "110e6a92",
   "metadata": {},
   "outputs": [
    {
     "data": {
      "text/plain": [
       "4045.873974231912"
      ]
     },
     "execution_count": 140,
     "metadata": {},
     "output_type": "execute_result"
    }
   ],
   "source": [
    "##Esfuerzo en MPa\n",
    "\n",
    "esfuerzo= (((momento_maximo*10**6)*ybarra)/(Mix))\n",
    "esfuerzo"
   ]
  },
  {
   "cell_type": "code",
   "execution_count": 145,
   "id": "87f11a72",
   "metadata": {
    "scrolled": true
   },
   "outputs": [
    {
     "data": {
      "text/plain": [
       "perfil\n",
       "1.0      350.00\n",
       "2.0      464.75\n",
       "3.0      594.00\n",
       "4.0      791.00\n",
       "5.0     1202.75\n",
       "6.0     1449.00\n",
       "7.0     1700.00\n",
       "8.0     2282.75\n",
       "9.0     2951.00\n",
       "10.0    3825.00\n",
       "NaN         NaN\n",
       "Name: Area (mm2), dtype: float64"
      ]
     },
     "execution_count": 145,
     "metadata": {},
     "output_type": "execute_result"
    }
   ],
   "source": [
    "resultados= perfiles \n",
    "resultados['Area (mm2)']= (perfiles ['t [mm]']*(perfiles ['h [mm]'] - perfiles ['t [mm]'])) + (perfiles ['b [mm]']*perfiles ['t [mm]'])\n",
    "resultados['Area (mm2)']\n",
    "\n"
   ]
  },
  {
   "cell_type": "code",
   "execution_count": 147,
   "id": "b9f59dc7",
   "metadata": {},
   "outputs": [
    {
     "data": {
      "text/plain": [
       "perfil\n",
       "1.0     1.501488e+04\n",
       "2.0     2.910029e+04\n",
       "3.0     5.113253e+04\n",
       "4.0     8.866585e+04\n",
       "5.0     2.115530e+05\n",
       "6.0     3.036222e+05\n",
       "7.0     4.318137e+05\n",
       "8.0     7.908459e+05\n",
       "9.0     1.337393e+06\n",
       "10.0    2.186057e+06\n",
       "NaN              NaN\n",
       "Name: Inercia (mm4), dtype: float64"
      ]
     },
     "execution_count": 147,
     "metadata": {},
     "output_type": "execute_result"
    }
   ],
   "source": [
    "## ((b*(t**3))/12) + ((t*b)*(h - ybarra - (t/2))**2) + ((t*(h-t)**3)/12) + ((t*(h-t))*(ybarra-((h-t)/2))**2)\n",
    "resultados['Inercia (mm4)']= ((perfiles ['b [mm]']*(perfiles ['t [mm]']**3))/12) + ((perfiles ['t [mm]']*perfiles ['b [mm]'])*(perfiles ['h [mm]']- ((perfiles ['t [mm]']*(perfiles ['h [mm]']-perfiles ['t [mm]'])*((perfiles ['h [mm]']-perfiles ['t [mm]'])/2)) + ((perfiles ['b [mm]']*perfiles ['t [mm]'])*((perfiles ['h [mm]']-perfiles ['t [mm]'])+(perfiles ['t [mm]']/2)))) / ((perfiles ['t [mm]']*perfiles ['b [mm]']) + (perfiles ['t [mm]']*(perfiles ['h [mm]']-perfiles ['t [mm]'])))  - (perfiles ['t [mm]']/2))**2) + ((perfiles ['t [mm]']*(perfiles ['h [mm]']-perfiles ['t [mm]'])**3)/12) + ((perfiles ['t [mm]']*(perfiles ['h [mm]']-perfiles ['t [mm]']))*(((perfiles ['t [mm]']*(perfiles ['h [mm]']-perfiles ['t [mm]'])*((perfiles ['h [mm]']-perfiles ['t [mm]'])/2)) + ((perfiles ['b [mm]']*perfiles ['t [mm]'])*((perfiles ['h [mm]']-perfiles ['t [mm]'])+(perfiles ['t [mm]']/2)))) / ((perfiles ['t [mm]']*perfiles ['b [mm]']) + (perfiles ['t [mm]']*(perfiles ['h [mm]']-perfiles ['t [mm]']))) -((perfiles ['h [mm]']-perfiles ['t [mm]'])/2))**2)\n",
    "resultados['Inercia (mm4)'] "
   ]
  },
  {
   "cell_type": "code",
   "execution_count": 148,
   "id": "4da7b77e",
   "metadata": {},
   "outputs": [
    {
     "data": {
      "text/plain": [
       "perfil\n",
       "1.0     18.928571\n",
       "2.0     22.900888\n",
       "3.0     26.873737\n",
       "4.0     30.659292\n",
       "5.0     38.417845\n",
       "6.0     42.642857\n",
       "7.0     46.176471\n",
       "8.0     53.935139\n",
       "9.0     61.693833\n",
       "10.0    69.264706\n",
       "NaN           NaN\n",
       "Name: y barra mm, dtype: float64"
      ]
     },
     "execution_count": 148,
     "metadata": {},
     "output_type": "execute_result"
    }
   ],
   "source": [
    "##((t*(h-t)*((h-t)/2)) + ((b*t)*((h-t)+(t/2)))) / ((t*b) + (t*(h-t)))\n",
    "resultados['y barra mm']= ((perfiles ['t [mm]']*(perfiles ['h [mm]']-perfiles ['t [mm]'])*((perfiles ['h [mm]']-perfiles ['t [mm]'])/2)) + ((perfiles ['b [mm]']*perfiles ['t [mm]'])*((perfiles ['h [mm]']-perfiles ['t [mm]'])+(perfiles ['t [mm]']/2)))) / ((perfiles ['t [mm]']*perfiles ['b [mm]']) + (perfiles ['t [mm]']*(perfiles ['h [mm]']-perfiles ['t [mm]']))) \n",
    "resultados['y barra mm']"
   ]
  },
  {
   "cell_type": "code",
   "execution_count": 149,
   "id": "244ebc6a",
   "metadata": {},
   "outputs": [
    {
     "data": {
      "text/plain": [
       "perfil\n",
       "1.0     4045.873974\n",
       "2.0     2525.639850\n",
       "3.0     1686.736294\n",
       "4.0     1109.742366\n",
       "5.0      582.814355\n",
       "6.0      450.743226\n",
       "7.0      343.194800\n",
       "8.0      218.875096\n",
       "9.0      148.046824\n",
       "10.0     101.687348\n",
       "NaN             NaN\n",
       "Name: Esfuerzo en (MPa), dtype: float64"
      ]
     },
     "execution_count": 149,
     "metadata": {},
     "output_type": "execute_result"
    }
   ],
   "source": [
    "##esfuerzo= (((momento_maximo*10**6)*ybarra)/(Mix))\n",
    "resultados['Esfuerzo en (MPa)']= ((momento_maximo *10 ** 6)*resultados['y barra mm'])/(resultados['Inercia (mm4)'])\n",
    "resultados['Esfuerzo en (MPa)']"
   ]
  },
  {
   "cell_type": "code",
   "execution_count": 150,
   "id": "50e3f6e3",
   "metadata": {},
   "outputs": [
    {
     "data": {
      "text/plain": [
       "350.0"
      ]
     },
     "execution_count": 150,
     "metadata": {},
     "output_type": "execute_result"
    }
   ],
   "source": [
    "##perfil optimo \n",
    "area_minima= resultados['Area (mm2)'].min()\n",
    "area_minima"
   ]
  },
  {
   "cell_type": "code",
   "execution_count": 151,
   "id": "cf53b0d2",
   "metadata": {},
   "outputs": [
    {
     "data": {
      "text/plain": [
       "h [mm]                  25.000000\n",
       "b [mm]                  50.000000\n",
       "t [mm]                   5.000000\n",
       "Area (mm2)             350.000000\n",
       "Inercia (mm4)        15014.880952\n",
       "y barra mm              18.928571\n",
       "Esfuerzo en (MPa)     4045.873974\n",
       "Name: 1.0, dtype: float64"
      ]
     },
     "execution_count": 151,
     "metadata": {},
     "output_type": "execute_result"
    }
   ],
   "source": [
    "perfiles.iloc[0]"
   ]
  },
  {
   "cell_type": "code",
   "execution_count": 152,
   "id": "06386918",
   "metadata": {},
   "outputs": [
    {
     "data": {
      "text/plain": [
       "1.0"
      ]
     },
     "execution_count": 152,
     "metadata": {},
     "output_type": "execute_result"
    }
   ],
   "source": [
    "indice = resultados['Area (mm2)'].idxmin()\n",
    "indice"
   ]
  },
  {
   "cell_type": "code",
   "execution_count": 153,
   "id": "6191bfa5",
   "metadata": {},
   "outputs": [
    {
     "data": {
      "text/html": [
       "<div>\n",
       "<style scoped>\n",
       "    .dataframe tbody tr th:only-of-type {\n",
       "        vertical-align: middle;\n",
       "    }\n",
       "\n",
       "    .dataframe tbody tr th {\n",
       "        vertical-align: top;\n",
       "    }\n",
       "\n",
       "    .dataframe thead th {\n",
       "        text-align: right;\n",
       "    }\n",
       "</style>\n",
       "<table border=\"1\" class=\"dataframe\">\n",
       "  <thead>\n",
       "    <tr style=\"text-align: right;\">\n",
       "      <th></th>\n",
       "      <th>h [mm]</th>\n",
       "      <th>b [mm]</th>\n",
       "      <th>t [mm]</th>\n",
       "      <th>Area (mm2)</th>\n",
       "      <th>Inercia (mm4)</th>\n",
       "      <th>y barra mm</th>\n",
       "      <th>Esfuerzo en (MPa)</th>\n",
       "    </tr>\n",
       "    <tr>\n",
       "      <th>perfil</th>\n",
       "      <th></th>\n",
       "      <th></th>\n",
       "      <th></th>\n",
       "      <th></th>\n",
       "      <th></th>\n",
       "      <th></th>\n",
       "      <th></th>\n",
       "    </tr>\n",
       "  </thead>\n",
       "  <tbody>\n",
       "    <tr>\n",
       "      <th>2.0</th>\n",
       "      <td>30.0</td>\n",
       "      <td>60.0</td>\n",
       "      <td>5.5</td>\n",
       "      <td>464.75</td>\n",
       "      <td>29100.288801</td>\n",
       "      <td>22.900888</td>\n",
       "      <td>2525.63985</td>\n",
       "    </tr>\n",
       "  </tbody>\n",
       "</table>\n",
       "</div>"
      ],
      "text/plain": [
       "        h [mm]  b [mm]  t [mm]  Area (mm2)  Inercia (mm4)  y barra mm  \\\n",
       "perfil                                                                  \n",
       "2.0       30.0    60.0     5.5      464.75   29100.288801   22.900888   \n",
       "\n",
       "        Esfuerzo en (MPa)  \n",
       "perfil                     \n",
       "2.0            2525.63985  "
      ]
     },
     "execution_count": 153,
     "metadata": {},
     "output_type": "execute_result"
    }
   ],
   "source": [
    "perfiles.iloc[[indice], :]"
   ]
  },
  {
   "cell_type": "code",
   "execution_count": 154,
   "id": "7c5c047a",
   "metadata": {},
   "outputs": [
    {
     "data": {
      "text/plain": [
       "perfil\n",
       "1.0     False\n",
       "2.0     False\n",
       "3.0     False\n",
       "4.0     False\n",
       "5.0     False\n",
       "6.0     False\n",
       "7.0     False\n",
       "8.0      True\n",
       "9.0      True\n",
       "10.0     True\n",
       "NaN     False\n",
       "Name: Esfuerzo en (MPa), dtype: bool"
      ]
     },
     "execution_count": 154,
     "metadata": {},
     "output_type": "execute_result"
    }
   ],
   "source": [
    "esfuerzo_menor_250= resultados['Esfuerzo en (MPa)']<=250\n",
    "esfuerzo_menor_250"
   ]
  },
  {
   "cell_type": "code",
   "execution_count": 156,
   "id": "9f2b13dc",
   "metadata": {},
   "outputs": [
    {
     "data": {
      "text/html": [
       "<div>\n",
       "<style scoped>\n",
       "    .dataframe tbody tr th:only-of-type {\n",
       "        vertical-align: middle;\n",
       "    }\n",
       "\n",
       "    .dataframe tbody tr th {\n",
       "        vertical-align: top;\n",
       "    }\n",
       "\n",
       "    .dataframe thead th {\n",
       "        text-align: right;\n",
       "    }\n",
       "</style>\n",
       "<table border=\"1\" class=\"dataframe\">\n",
       "  <thead>\n",
       "    <tr style=\"text-align: right;\">\n",
       "      <th></th>\n",
       "      <th>h [mm]</th>\n",
       "      <th>b [mm]</th>\n",
       "      <th>t [mm]</th>\n",
       "      <th>Area (mm2)</th>\n",
       "      <th>Inercia (mm4)</th>\n",
       "      <th>y barra mm</th>\n",
       "      <th>Esfuerzo en (MPa)</th>\n",
       "    </tr>\n",
       "    <tr>\n",
       "      <th>perfil</th>\n",
       "      <th></th>\n",
       "      <th></th>\n",
       "      <th></th>\n",
       "      <th></th>\n",
       "      <th></th>\n",
       "      <th></th>\n",
       "      <th></th>\n",
       "    </tr>\n",
       "  </thead>\n",
       "  <tbody>\n",
       "    <tr>\n",
       "      <th>8.0</th>\n",
       "      <td>70.0</td>\n",
       "      <td>140.0</td>\n",
       "      <td>11.5</td>\n",
       "      <td>2282.75</td>\n",
       "      <td>7.908459e+05</td>\n",
       "      <td>53.935139</td>\n",
       "      <td>218.875096</td>\n",
       "    </tr>\n",
       "    <tr>\n",
       "      <th>9.0</th>\n",
       "      <td>80.0</td>\n",
       "      <td>160.0</td>\n",
       "      <td>13.0</td>\n",
       "      <td>2951.00</td>\n",
       "      <td>1.337393e+06</td>\n",
       "      <td>61.693833</td>\n",
       "      <td>148.046824</td>\n",
       "    </tr>\n",
       "    <tr>\n",
       "      <th>10.0</th>\n",
       "      <td>90.0</td>\n",
       "      <td>180.0</td>\n",
       "      <td>15.0</td>\n",
       "      <td>3825.00</td>\n",
       "      <td>2.186057e+06</td>\n",
       "      <td>69.264706</td>\n",
       "      <td>101.687348</td>\n",
       "    </tr>\n",
       "  </tbody>\n",
       "</table>\n",
       "</div>"
      ],
      "text/plain": [
       "        h [mm]  b [mm]  t [mm]  Area (mm2)  Inercia (mm4)  y barra mm  \\\n",
       "perfil                                                                  \n",
       "8.0       70.0   140.0    11.5     2282.75   7.908459e+05   53.935139   \n",
       "9.0       80.0   160.0    13.0     2951.00   1.337393e+06   61.693833   \n",
       "10.0      90.0   180.0    15.0     3825.00   2.186057e+06   69.264706   \n",
       "\n",
       "        Esfuerzo en (MPa)  \n",
       "perfil                     \n",
       "8.0            218.875096  \n",
       "9.0            148.046824  \n",
       "10.0           101.687348  "
      ]
     },
     "execution_count": 156,
     "metadata": {},
     "output_type": "execute_result"
    }
   ],
   "source": [
    "filtro= resultados['Esfuerzo en (MPa)']<=250\n",
    "resultados[filtro]"
   ]
  },
  {
   "cell_type": "code",
   "execution_count": 157,
   "id": "6c4fc526",
   "metadata": {},
   "outputs": [
    {
     "data": {
      "text/plain": [
       "perfil\n",
       "8.0     2282.75\n",
       "9.0     2951.00\n",
       "10.0    3825.00\n",
       "Name: Area (mm2), dtype: float64"
      ]
     },
     "execution_count": 157,
     "metadata": {},
     "output_type": "execute_result"
    }
   ],
   "source": [
    "resultados.loc[filtro, 'Area (mm2)']"
   ]
  },
  {
   "cell_type": "code",
   "execution_count": 159,
   "id": "2ef08389",
   "metadata": {},
   "outputs": [
    {
     "data": {
      "text/plain": [
       "2282.75"
      ]
     },
     "execution_count": 159,
     "metadata": {},
     "output_type": "execute_result"
    }
   ],
   "source": [
    "area_minima_perfil_optimo= resultados.loc[filtro, 'Area (mm2)'].min()\n",
    "area_minima_perfil_optimo"
   ]
  },
  {
   "cell_type": "code",
   "execution_count": 161,
   "id": "a8fe0796",
   "metadata": {},
   "outputs": [
    {
     "data": {
      "text/plain": [
       "8.0"
      ]
     },
     "execution_count": 161,
     "metadata": {},
     "output_type": "execute_result"
    }
   ],
   "source": [
    "indice_perfil = resultados.loc[filtro, 'Area (mm2)'].idxmin()\n",
    "indice_perfil\n",
    "##El perfil optimo para este ejercicicio es el numero 8 ya que su area es minima y resite el mayor esfuerzo sin sobrepasar el admisible que es 250"
   ]
  },
  {
   "cell_type": "code",
   "execution_count": 172,
   "id": "085264eb",
   "metadata": {},
   "outputs": [
    {
     "data": {
      "text/html": [
       "<div>\n",
       "<style scoped>\n",
       "    .dataframe tbody tr th:only-of-type {\n",
       "        vertical-align: middle;\n",
       "    }\n",
       "\n",
       "    .dataframe tbody tr th {\n",
       "        vertical-align: top;\n",
       "    }\n",
       "\n",
       "    .dataframe thead th {\n",
       "        text-align: right;\n",
       "    }\n",
       "</style>\n",
       "<table border=\"1\" class=\"dataframe\">\n",
       "  <thead>\n",
       "    <tr style=\"text-align: right;\">\n",
       "      <th></th>\n",
       "      <th>h [mm]</th>\n",
       "      <th>b [mm]</th>\n",
       "      <th>t [mm]</th>\n",
       "      <th>Area (mm2)</th>\n",
       "      <th>Inercia (mm4)</th>\n",
       "      <th>y barra mm</th>\n",
       "      <th>Esfuerzo en (MPa)</th>\n",
       "    </tr>\n",
       "    <tr>\n",
       "      <th>perfil</th>\n",
       "      <th></th>\n",
       "      <th></th>\n",
       "      <th></th>\n",
       "      <th></th>\n",
       "      <th></th>\n",
       "      <th></th>\n",
       "      <th></th>\n",
       "    </tr>\n",
       "  </thead>\n",
       "  <tbody>\n",
       "    <tr>\n",
       "      <th>8.0</th>\n",
       "      <td>70.0</td>\n",
       "      <td>140.0</td>\n",
       "      <td>11.5</td>\n",
       "      <td>2282.75</td>\n",
       "      <td>790845.875617</td>\n",
       "      <td>53.935139</td>\n",
       "      <td>218.875096</td>\n",
       "    </tr>\n",
       "  </tbody>\n",
       "</table>\n",
       "</div>"
      ],
      "text/plain": [
       "        h [mm]  b [mm]  t [mm]  Area (mm2)  Inercia (mm4)  y barra mm  \\\n",
       "perfil                                                                  \n",
       "8.0       70.0   140.0    11.5     2282.75  790845.875617   53.935139   \n",
       "\n",
       "        Esfuerzo en (MPa)  \n",
       "perfil                     \n",
       "8.0            218.875096  "
      ]
     },
     "execution_count": 172,
     "metadata": {},
     "output_type": "execute_result"
    }
   ],
   "source": [
    "perfil_optimo= perfiles.loc[[indice_perfil], :]\n",
    "perfil_optimo\n"
   ]
  },
  {
   "cell_type": "code",
   "execution_count": 174,
   "id": "da830fd8",
   "metadata": {},
   "outputs": [
    {
     "data": {
      "text/html": [
       "<div>\n",
       "<style scoped>\n",
       "    .dataframe tbody tr th:only-of-type {\n",
       "        vertical-align: middle;\n",
       "    }\n",
       "\n",
       "    .dataframe tbody tr th {\n",
       "        vertical-align: top;\n",
       "    }\n",
       "\n",
       "    .dataframe thead th {\n",
       "        text-align: right;\n",
       "    }\n",
       "</style>\n",
       "<table border=\"1\" class=\"dataframe\">\n",
       "  <thead>\n",
       "    <tr style=\"text-align: right;\">\n",
       "      <th></th>\n",
       "      <th>h [mm]</th>\n",
       "      <th>b [mm]</th>\n",
       "      <th>t [mm]</th>\n",
       "    </tr>\n",
       "    <tr>\n",
       "      <th>perfil</th>\n",
       "      <th></th>\n",
       "      <th></th>\n",
       "      <th></th>\n",
       "    </tr>\n",
       "  </thead>\n",
       "  <tbody>\n",
       "    <tr>\n",
       "      <th>8.0</th>\n",
       "      <td>70.0</td>\n",
       "      <td>140.0</td>\n",
       "      <td>11.5</td>\n",
       "    </tr>\n",
       "  </tbody>\n",
       "</table>\n",
       "</div>"
      ],
      "text/plain": [
       "        h [mm]  b [mm]  t [mm]\n",
       "perfil                        \n",
       "8.0       70.0   140.0    11.5"
      ]
     },
     "execution_count": 174,
     "metadata": {},
     "output_type": "execute_result"
    }
   ],
   "source": [
    "perfil_ultimo= perfiles.loc[[indice_perfil], :'t [mm]']\n",
    "perfil_ultimo"
   ]
  },
  {
   "cell_type": "code",
   "execution_count": 178,
   "id": "161069e5",
   "metadata": {},
   "outputs": [],
   "source": [
    "##funcion para que aparexca la linea de perfil_ultimo en el excel \n",
    "from openpyxl import load_workbook \n",
    "with pd.ExcelWriter('T2.xlsx', mode='a',if_sheet_exists=\"overlay\", engine='openpyxl') as writer:\n",
    "    # configurando sheets\n",
    "    book = load_workbook('T2.xlsx')\n",
    "    writer.book = book\n",
    "    writer.sheets = dict((ws.title, ws) for ws in book.worksheets)\n",
    "\n",
    "    perfil_ultimo.to_excel(writer, startrow=18, startcol=2, sheet_name='Perfiles', index=None) \n",
    "\n",
    "\n"
   ]
  },
  {
   "cell_type": "code",
   "execution_count": null,
   "id": "169381ef",
   "metadata": {},
   "outputs": [],
   "source": []
  },
  {
   "cell_type": "code",
   "execution_count": null,
   "id": "a7c114f2",
   "metadata": {},
   "outputs": [],
   "source": []
  }
 ],
 "metadata": {
  "kernelspec": {
   "display_name": "Python 3 (ipykernel)",
   "language": "python",
   "name": "python3"
  },
  "language_info": {
   "codemirror_mode": {
    "name": "ipython",
    "version": 3
   },
   "file_extension": ".py",
   "mimetype": "text/x-python",
   "name": "python",
   "nbconvert_exporter": "python",
   "pygments_lexer": "ipython3",
   "version": "3.10.0"
  }
 },
 "nbformat": 4,
 "nbformat_minor": 5
}

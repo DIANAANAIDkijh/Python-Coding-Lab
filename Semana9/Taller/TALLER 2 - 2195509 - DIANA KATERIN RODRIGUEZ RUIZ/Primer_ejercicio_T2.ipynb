{
 "cells": [
  {
   "cell_type": "code",
   "execution_count": 5,
   "id": "ce9cceb0",
   "metadata": {},
   "outputs": [],
   "source": [
    "import numpy as np\n",
    "import sympy as sp\n",
    "import pandas as pd\n",
    "import matplotlib.pyplot as plt"
   ]
  },
  {
   "cell_type": "code",
   "execution_count": 6,
   "id": "e4002185",
   "metadata": {},
   "outputs": [],
   "source": [
    "# Punto 1\n",
    "\n",
    "#CÓDIGO: 2195509  DONDE x : 31\n",
    "\n",
    "# longitudes en metros\n",
    "L1 = 1.55\n",
    "L2 = 2.325\n",
    "L3 = 0.775\n",
    "# cargas kN\n",
    "F_aplicada_D = 1.096\n",
    "# distribuida kN / m\n",
    "w = 0.2583"
   ]
  },
  {
   "cell_type": "code",
   "execution_count": 7,
   "id": "a77bde9d",
   "metadata": {},
   "outputs": [],
   "source": [
    "import sympy as sp"
   ]
  },
  {
   "cell_type": "code",
   "execution_count": 1,
   "id": "15db242c",
   "metadata": {},
   "outputs": [
    {
     "name": "stdout",
     "output_type": "stream",
     "text": [
      "Ingrese L1 en metros: 1.55\n",
      "Ingrese L2 en metros: 2.325\n",
      "Ingrese L3 en metros: 0.775\n",
      "Ingrese w en kN / m: 0.2583\n",
      "Ingrese fuerza_D en kN: 1.096\n"
     ]
    }
   ],
   "source": [
    "# longitudes en metros\n",
    "# L1 = float(input(\"Ingrese L1 en metros: \"))\n",
    "# carga distribuida en kN / m\n",
    "# cargas puntuales en kN\n",
    "viga = {\n",
    "    \"L1\": \"metros\",\n",
    "    \"L2\": \"metros\",\n",
    "    \"L3\": \"metros\",\n",
    "    \"w\": \"kN / m\",\n",
    "    \"fuerza_D\": \"kN\",\n",
    "}\n",
    "\n",
    "for llave, valor in viga.items():\n",
    "    while True:\n",
    "        try:\n",
    "            viga[llave] = float(input(f\"Ingrese {llave} en {valor}: \"))\n",
    "            break\n",
    "        except:\n",
    "            print(f\"Ingrese correctamente el dato {llave} con su unidad en {valor}\")"
   ]
  },
  {
   "cell_type": "code",
   "execution_count": 8,
   "id": "3bad336b",
   "metadata": {},
   "outputs": [],
   "source": [
    "Ay, Ma, x = sp.symbols(\" Ay Ma x \")"
   ]
  },
  {
   "cell_type": "code",
   "execution_count": 9,
   "id": "23dc9cf4",
   "metadata": {},
   "outputs": [
    {
     "data": {
      "text/latex": [
       "$\\displaystyle -0.19517875$"
      ],
      "text/plain": [
       "-0.195178750000000"
      ]
     },
     "execution_count": 9,
     "metadata": {},
     "output_type": "execute_result"
    }
   ],
   "source": [
    "# ESTÁTICA DE LA VIGA\n",
    "\n",
    "# equilibrio en y\n",
    "equilibrio_y = Ay + viga[\"fuerza_D\"] - viga[\"w\"] * viga[\"L1\"] / 2 - viga[\"w\"] * ( viga[\"L3\"]) / 2 - viga[\"w\"] * viga[\"L2\"]\n",
    "ecuacion_y = sp.Eq(equilibrio_y, 0)\n",
    "reaccion_ay =  sp.solve(ecuacion_y)[0]\n",
    "# kN\n",
    "reaccion_ay"
   ]
  },
  {
   "cell_type": "code",
   "execution_count": 10,
   "id": "71e50568",
   "metadata": {},
   "outputs": [
    {
     "data": {
      "text/latex": [
       "$\\displaystyle -2.84684915625$"
      ],
      "text/plain": [
       "-2.84684915625000"
      ]
     },
     "execution_count": 10,
     "metadata": {},
     "output_type": "execute_result"
    }
   ],
   "source": [
    "# sumatoria de momentos\n",
    "equilibrio_momentos =  Ma + viga[\"fuerza_D\"] * (viga[\"L1\"] + viga[\"L2\"] + viga[\"L3\"]) - viga[\"w\"] * viga[\"L1\"] / 2 * (2 * viga[\"L1\"] / 3) - viga[\"w\"] * viga[\"L2\"] * (viga[\"L1\"] + viga[\"L2\"] / 2) - viga[\"w\"] * viga[\"L3\"] / 2 * (viga[\"L1\"] + viga[\"L2\"] +  viga[\"L3\"] / 3)\n",
    "ecuacion_momentos = sp.Eq(equilibrio_momentos, 0)\n",
    "reaccion_Ma =  sp.solve(ecuacion_momentos)[0]\n",
    "# kN - m\n",
    "reaccion_Ma"
   ]
  },
  {
   "cell_type": "code",
   "execution_count": 11,
   "id": "90f4aa2a",
   "metadata": {},
   "outputs": [
    {
     "data": {
      "text/latex": [
       "$\\displaystyle - 0.0277741935483871 x^{3} - 0.19517875 x + 2.84684915625$"
      ],
      "text/plain": [
       "-0.0277741935483871*x**3 - 0.19517875*x + 2.84684915625"
      ]
     },
     "execution_count": 11,
     "metadata": {},
     "output_type": "execute_result"
    }
   ],
   "source": [
    "# ECUACIONES DE CORTANTE Y MOMENTO \n",
    "# CORTANTE Y MOMENTO PRIMER TRAMO\n",
    "# 0 <= x <= L1\n",
    "carga_distribuida = viga[\"w\"] * x / viga[\"L1\"]\n",
    "# - integral carga * dx + V(x)\n",
    "Vx_1 = reaccion_ay - sp.integrate(carga_distribuida, x)\n",
    "\n",
    "Mx_1 = - reaccion_Ma + sp.integrate(Vx_1, x)\n",
    "Mx_1"
   ]
  },
  {
   "cell_type": "code",
   "execution_count": 12,
   "id": "cfcebe66",
   "metadata": {},
   "outputs": [
    {
     "data": {
      "text/latex": [
       "$\\displaystyle - 0.12915 x^{2} - 0.39536125 x + 2.44089446875$"
      ],
      "text/plain": [
       "-0.12915*x**2 - 0.39536125*x + 2.44089446875"
      ]
     },
     "execution_count": 12,
     "metadata": {},
     "output_type": "execute_result"
    }
   ],
   "source": [
    "# CORTANTE Y MOMENTO SEGUNDO TRAMO\n",
    "# 0 <= x <= L2\n",
    "carga_distribuida = viga[\"w\"]\n",
    "# - integral carga * dx + V(x)\n",
    "Vx_2 =  Vx_1.subs(x, viga[\"L1\"]) - sp.integrate(carga_distribuida, x)\n",
    "\n",
    "Mx_2 = Mx_1.subs(x, viga[\"L1\"]) + sp.integrate(Vx_2, x)\n",
    "Mx_2"
   ]
  },
  {
   "cell_type": "code",
   "execution_count": 13,
   "id": "73dc7b4d",
   "metadata": {},
   "outputs": [
    {
     "data": {
      "text/latex": [
       "$\\displaystyle 0.0555483870967742 x^{3} - 0.12915 x^{2} + 0.10009125 x + 0.82354309375$"
      ],
      "text/plain": [
       "0.0555483870967742*x**3 - 0.12915*x**2 + 0.10009125*x + 0.82354309375"
      ]
     },
     "execution_count": 13,
     "metadata": {},
     "output_type": "execute_result"
    }
   ],
   "source": [
    "# CORTANTE Y MOMENTO TERCERO TRAMO\n",
    "# 0 <= x <= L3\n",
    "carga_distribuida = - viga[\"w\"] * x / viga[\"L3\"] +  viga[\"w\"]\n",
    "# - integral carga * dx + V(x)\n",
    "Vx_3 = viga[\"fuerza_D\"] + Vx_2.subs(x, viga[\"L2\"]) - sp.integrate(carga_distribuida, x)\n",
    "\n",
    "Mx_3 = Mx_2.subs(x, viga[\"L2\"]) + sp.integrate(Vx_3, x)\n",
    "Mx_3"
   ]
  },
  {
   "cell_type": "code",
   "execution_count": 14,
   "id": "cf3d277a",
   "metadata": {},
   "outputs": [],
   "source": [
    "import numpy as np"
   ]
  },
  {
   "cell_type": "code",
   "execution_count": 15,
   "id": "0067b0fd",
   "metadata": {
    "scrolled": false
   },
   "outputs": [
    {
     "data": {
      "image/png": "[encoded data removed]",
      "text/plain": [
       "<Figure size 432x288 with 1 Axes>"
      ]
     },
     "metadata": {
      "needs_background": "light"
     },
     "output_type": "display_data"
    },
    {
     "data": {
      "text/plain": [
       "<sympy.plotting.plot.Plot at 0x1cc64a7d4e0>"
      ]
     },
     "execution_count": 15,
     "metadata": {},
     "output_type": "execute_result"
    }
   ],
   "source": [
    "# DFC\n",
    "x_array = np.arange(0, viga[\"L1\"] + viga[\"L2\"] + viga[\"L3\"] + 0.01, 0.01)\n",
    "# obtener arrays reemplazando la funcion de cada tramo\n",
    "tramo1 = sp.lambdify(x, Vx_1)(x_array[x_array <= viga[\"L1\"]])\n",
    "tramo2 = sp.lambdify(x, Vx_2)(x_array[(x_array > viga[\"L1\"]) & (x_array <= (viga[\"L1\"] + viga[\"L2\"]))] - viga[\"L1\"])\n",
    "tramo3 = sp.lambdify(x, Vx_3)(x_array[x_array > (viga[\"L1\"] + viga[\"L2\"])] - viga[\"L1\"] - viga[\"L2\"])\n",
    "\n",
    "cortante_y = np.concatenate((tramo1, tramo2, tramo3))\n",
    "sp.plot((Vx_1, (x, 0, viga[\"L1\"])), (Vx_2.subs(x, x - viga[\"L1\"]), (x, viga[\"L1\"], viga[\"L1\"] + viga[\"L2\"])), (Vx_3.subs(x, x - (viga[\"L1\"] + viga[\"L2\"])), (x, (viga[\"L1\"] + viga[\"L2\"]), (viga[\"L1\"]  + viga[\"L2\"] + viga[\"L3\"]))))"
   ]
  },
  {
   "cell_type": "code",
   "execution_count": 16,
   "id": "c1c3b0bc",
   "metadata": {
    "scrolled": true
   },
   "outputs": [
    {
     "data": {
      "image/png": "[encoded data removed]",
      "text/plain": [
       "<Figure size 432x288 with 1 Axes>"
      ]
     },
     "metadata": {
      "needs_background": "light"
     },
     "output_type": "display_data"
    },
    {
     "data": {
      "text/plain": [
       "<sympy.plotting.plot.Plot at 0x1cc64b65360>"
      ]
     },
     "execution_count": 16,
     "metadata": {},
     "output_type": "execute_result"
    }
   ],
   "source": [
    "# DFC\n",
    "x_array = np.arange(0, viga[\"L1\"] + viga[\"L2\"] + viga[\"L3\"] + 0.01, 0.01)\n",
    "# obtener arrays reemplazando la funcion de cada tramo\n",
    "tramo1 = sp.lambdify(x, Mx_1)(x_array[x_array <= viga[\"L1\"]])\n",
    "tramo2 = sp.lambdify(x, Mx_2)(x_array[(x_array > viga[\"L1\"]) & (x_array <= (viga[\"L1\"] + viga[\"L2\"]))] - viga[\"L1\"])\n",
    "tramo3 = sp.lambdify(x, Mx_3)(x_array[x_array > (viga[\"L1\"] + viga[\"L2\"])] - viga[\"L1\"] - viga[\"L2\"])\n",
    "\n",
    "momento_y = np.concatenate((tramo1, tramo2, tramo3))\n",
    "sp.plot((Mx_1, (x, 0, viga[\"L1\"])), (Mx_2.subs(x, x - viga[\"L1\"]), (x, viga[\"L1\"], viga[\"L1\"] + viga[\"L2\"])), (Mx_3.subs(x, x - (viga[\"L1\"] + viga[\"L2\"])), (x, (viga[\"L1\"] + viga[\"L2\"]), (viga[\"L1\"]  + viga[\"L2\"] + viga[\"L3\"]))))"
   ]
  },
  {
   "cell_type": "code",
   "execution_count": 17,
   "id": "dc467ba8",
   "metadata": {},
   "outputs": [
    {
     "data": {
      "text/plain": [
       "2.84684915625"
      ]
     },
     "execution_count": 17,
     "metadata": {},
     "output_type": "execute_result"
    }
   ],
   "source": [
    "# kN - m\n",
    "momento_maximo = 0\n",
    "momento_maximo_positivo = np.amax(momento_y)\n",
    "momento_maximo_negativo = np.amin(momento_y)\n",
    "\n",
    "if np.abs(momento_maximo_negativo) > momento_maximo_positivo:\n",
    "    momento_maximo = np.abs(momento_maximo_negativo)\n",
    "else: \n",
    "    momento_maximo = momento_maximo_positivo\n",
    "\n",
    "momento_maximo"
   ]
  },
  {
   "cell_type": "code",
   "execution_count": 18,
   "id": "11db398a",
   "metadata": {},
   "outputs": [
    {
     "data": {
      "text/plain": [
       "0.99461725"
      ]
     },
     "execution_count": 18,
     "metadata": {},
     "output_type": "execute_result"
    }
   ],
   "source": [
    "# kN \n",
    "cortante_maximo = 0\n",
    "cortante_maximo_positivo = np.amax(cortante_y)\n",
    "cortante_maximo_negativo = np.amin(cortante_y)\n",
    "\n",
    "if np.abs(cortante_maximo_negativo) > cortante_maximo_positivo:\n",
    "    cortante_maximo = np.abs(cortante_maximo_negativo)\n",
    "else: \n",
    "   cortante_maximo =cortante_maximo_positivo\n",
    "\n",
    "cortante_maximo"
   ]
  }
 ],
 "metadata": {
  "kernelspec": {
   "display_name": "Python 3 (ipykernel)",
   "language": "python",
   "name": "python3"
  },
  "language_info": {
   "codemirror_mode": {
    "name": "ipython",
    "version": 3
   },
   "file_extension": ".py",
   "mimetype": "text/x-python",
   "name": "python",
   "nbconvert_exporter": "python",
   "pygments_lexer": "ipython3",
   "version": "3.10.2"
  }
 },
 "nbformat": 4,
 "nbformat_minor": 5
}
